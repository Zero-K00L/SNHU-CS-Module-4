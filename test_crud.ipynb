{
 "cells": [
  {
   "cell_type": "markdown",
   "id": "f3312be8",
   "metadata": {},
   "source": [
    "# Module 4 CRUD Tests\n",
    "This notebook tests create(), read(), and read_by_id()..."
   ]
  },
  {
   "cell_type": "code",
   "execution_count": 1,
   "id": "c43c786d",
   "metadata": {},
   "outputs": [],
   "source": [
    "from aac_crud import AnimalShelter"
   ]
  },
  {
   "cell_type": "code",
   "execution_count": 2,
   "id": "88b9fc17",
   "metadata": {},
   "outputs": [],
   "source": [
    "shelter = AnimalShelter()"
   ]
  },
  {
   "cell_type": "markdown",
   "id": "29590e81",
   "metadata": {},
   "source": [
    "### Test Create()"
   ]
  },
  {
   "cell_type": "code",
   "execution_count": 3,
   "id": "9a393b45",
   "metadata": {},
   "outputs": [
    {
     "name": "stdout",
     "output_type": "stream",
     "text": [
      "Insert OK? True\n"
     ]
    }
   ],
   "source": [
    "sample_doc = {\n",
    "    \"animal_id\": \"TEST001\",\n",
    "    \"name\": \"Testy\",\n",
    "    \"outcome_type\": \"Adoption\",\n",
    "    \"sex_upon_outcome\": \"Neutered Male\"\n",
    "}\n",
    "print(\"Insert OK?\", shelter.create(sample_doc))"
   ]
  },
  {
   "cell_type": "markdown",
   "id": "635c4c7a",
   "metadata": {},
   "source": [
    "### Test read()"
   ]
  },
  {
   "cell_type": "code",
   "execution_count": 4,
   "id": "35b4c10b",
   "metadata": {},
   "outputs": [
    {
     "name": "stdout",
     "output_type": "stream",
     "text": [
      "Read returned: [{'_id': ObjectId('68376fac79b82cf48647440a'), 'animal_id': 'TEST001', 'name': 'Testy', 'outcome_type': 'Adoption', 'sex_upon_outcome': 'Neutered Male'}]\n"
     ]
    }
   ],
   "source": [
    "results = shelter.read({\"animal_id\": \"TEST001\"})\n",
    "print(\"Read returned:\", results)"
   ]
  },
  {
   "cell_type": "markdown",
   "id": "5a6d353b",
   "metadata": {},
   "source": [
    "### Test read_by_id()"
   ]
  },
  {
   "cell_type": "code",
   "execution_count": 5,
   "id": "64c5beb2",
   "metadata": {},
   "outputs": [
    {
     "name": "stdout",
     "output_type": "stream",
     "text": [
      "By ID: {'_id': ObjectId('68376fac79b82cf48647440a'), 'animal_id': 'TEST001', 'name': 'Testy', 'outcome_type': 'Adoption', 'sex_upon_outcome': 'Neutered Male'}\n"
     ]
    }
   ],
   "source": [
    "_id = str(results[0][\"_id\"])\n",
    "print(\"By ID:\", shelter.read_by_id(_id))"
   ]
  },
  {
   "cell_type": "markdown",
   "id": "d94015fc",
   "metadata": {},
   "source": [
    "### Remove the test document so the notebook can be rerun end-to-end"
   ]
  },
  {
   "cell_type": "code",
   "execution_count": 6,
   "id": "a6d5168b",
   "metadata": {},
   "outputs": [
    {
     "name": "stdout",
     "output_type": "stream",
     "text": [
      "Deleted count: 1\n"
     ]
    }
   ],
   "source": [
    "result = shelter.collection.delete_one({\"animal_id\":\"TEST001\"})\n",
    "print(\"Deleted count:\", result.deleted_count)"
   ]
  },
  {
   "cell_type": "markdown",
   "id": "9e2c4578",
   "metadata": {},
   "source": [
    "---\n",
    "*End of CRUD tests.*"
   ]
  }
 ],
 "metadata": {
  "kernelspec": {
   "display_name": "Python 3 (ipykernel)",
   "language": "python",
   "name": "python3"
  },
  "language_info": {
   "codemirror_mode": {
    "name": "ipython",
    "version": 3
   },
   "file_extension": ".py",
   "mimetype": "text/x-python",
   "name": "python",
   "nbconvert_exporter": "python",
   "pygments_lexer": "ipython3",
   "version": "3.9.12"
  }
 },
 "nbformat": 4,
 "nbformat_minor": 5
}
